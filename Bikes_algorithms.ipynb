{
 "cells": [
  {
   "cell_type": "code",
   "execution_count": 1,
   "metadata": {
    "collapsed": true
   },
   "outputs": [],
   "source": [
    "# Load libraries\n",
    "import numpy as np\n",
    "import math\n",
    "from numpy import arange\n",
    "from matplotlib import pyplot\n",
    "%matplotlib inline\n",
    "from pandas import read_csv\n",
    "from pandas import set_option\n",
    "from pandas.tools.plotting import scatter_matrix\n",
    "from sklearn.preprocessing import StandardScaler\n",
    "from sklearn.preprocessing import MinMaxScaler\n",
    "from sklearn.model_selection import train_test_split\n",
    "from sklearn.model_selection import KFold\n",
    "from sklearn.model_selection import cross_val_score\n",
    "from sklearn.model_selection import GridSearchCV\n",
    "from sklearn.linear_model import LinearRegression\n",
    "from sklearn.linear_model import Lasso\n",
    "from sklearn.linear_model import Ridge\n",
    "from sklearn.linear_model import ElasticNet\n",
    "from sklearn.tree import DecisionTreeRegressor\n",
    "from sklearn.neighbors import KNeighborsRegressor\n",
    "from sklearn.svm import SVR\n",
    "from sklearn.pipeline import Pipeline\n",
    "from sklearn.ensemble import RandomForestRegressor\n",
    "from sklearn.ensemble import GradientBoostingRegressor\n",
    "from sklearn.ensemble import ExtraTreesRegressor\n",
    "from sklearn.ensemble import AdaBoostRegressor\n",
    "from sklearn.metrics import mean_squared_error\n",
    "import pandas as pd\n",
    "from sklearn.metrics import make_scorer"
   ]
  },
  {
   "cell_type": "code",
   "execution_count": 2,
   "metadata": {
    "collapsed": true
   },
   "outputs": [],
   "source": [
    "#Load Dataset\n",
    "dataset = read_csv('train_bikes.csv')\n",
    "dataset.datetime = dataset.datetime.apply(pd.to_datetime)\n",
    "dataset['year'] = dataset.datetime.apply(lambda x : x.year)\n",
    "dataset['month'] = dataset.datetime.apply(lambda x : x.month)\n",
    "dataset['hour'] = dataset.datetime.apply(lambda x : x.hour)\n",
    "dataset['dayofweek'] = dataset.datetime.apply(lambda x : x.dayofweek)"
   ]
  },
  {
   "cell_type": "code",
   "execution_count": 3,
   "metadata": {
    "collapsed": false
   },
   "outputs": [
    {
     "name": "stdout",
     "output_type": "stream",
     "text": [
      "(6531L, 12L)\n",
      "(4355L, 12L)\n"
     ]
    }
   ],
   "source": [
    "# Prepare Data\n",
    "Y = dataset['count'].values\n",
    "Y = np.log(Y)\n",
    "X = dataset[dataset.columns[1:].drop(['casual','registered','count'])].values\n",
    "validation_size = 0.4\n",
    "seed = 27\n",
    "X_train, X_validation, Y_train, Y_validation = train_test_split(X, Y, test_size=validation_size, random_state=seed)\n",
    "print X_train.shape\n",
    "print X_validation.shape"
   ]
  },
  {
   "cell_type": "code",
   "execution_count": 14,
   "metadata": {
    "collapsed": true
   },
   "outputs": [],
   "source": [
    "# Test options and evaluation metric\n",
    "num_folds = 5\n",
    "seed = 27\n",
    "scoring1 = 'neg_mean_squared_error'\n",
    "scoring2 = 'neg_mean_absolute_error'\n",
    "scoring3 = 'r2'\n",
    "def rmsle(y, y_preds): #define new metric\n",
    "    log1 = np.nan_to_num(np.array([np.log(v + 1) for v in y]))\n",
    "    log2 = np.nan_to_num(np.array([np.log(v + 1) for v in y_preds]))\n",
    "    calc = (log1 - log2) ** 2\n",
    "    return np.sqrt(np.mean(calc))\n",
    "rmsle_scorer = make_scorer(rmsle, greater_is_better=False)#create scorer"
   ]
  },
  {
   "cell_type": "code",
   "execution_count": 5,
   "metadata": {
    "collapsed": false
   },
   "outputs": [],
   "source": [
    "# Evaluate Algorithms\n",
    "# Spot Check Algorithms\n",
    "models = []\n",
    "models.append(('LR', LinearRegression()))\n",
    "models.append(('LASSO', Lasso()))\n",
    "models.append(('EN', ElasticNet()))\n",
    "models.append(('RIDGE', Ridge()))\n",
    "models.append(('KNN', KNeighborsRegressor()))\n",
    "models.append(('CART', DecisionTreeRegressor()))\n",
    "models.append(('SVR', SVR()))"
   ]
  },
  {
   "cell_type": "code",
   "execution_count": 6,
   "metadata": {
    "collapsed": false
   },
   "outputs": [
    {
     "name": "stdout",
     "output_type": "stream",
     "text": [
      "LR: -0.268945 (0.017580)\n",
      "LASSO: -0.284852 (0.019090)\n",
      "EN: -0.279281 (0.018531)\n",
      "RIDGE: -0.268945 (0.017581)\n",
      "KNN: -0.226128 (0.015326)\n",
      "CART: -0.151184 (0.010000)\n",
      "SVR: -0.269929 (0.021581)\n"
     ]
    }
   ],
   "source": [
    "# evaluate each model in turn\n",
    "results = []\n",
    "names = []\n",
    "for name, model in models:\n",
    "    kfold = KFold(n_splits=num_folds, random_state=seed)\n",
    "    cv_results = cross_val_score(model, X_train, Y_train, cv=kfold, scoring=rmsle_scorer)\n",
    "    results.append(cv_results)\n",
    "    names.append(name)\n",
    "    rmsle = \"%s: %f (%f)\" % (name, cv_results.mean(), cv_results.std())\n",
    "    print(rmsle)"
   ]
  },
  {
   "cell_type": "code",
   "execution_count": 7,
   "metadata": {
    "collapsed": false
   },
   "outputs": [
    {
     "name": "stdout",
     "output_type": "stream",
     "text": [
      "ScaledLR: -0.268945 (0.017580)\n",
      "ScaledLASSO: -0.356256 (0.019768)\n",
      "ScaledEN: -0.334449 (0.020376)\n",
      "ScaledKNN: -0.245575 (0.017221)\n",
      "ScaledCART: -0.154556 (0.012115)\n",
      "ScaledSVR: -0.241090 (0.017358)\n"
     ]
    }
   ],
   "source": [
    "# Standardize the dataset/StandardScaler\n",
    "pipelines = []\n",
    "pipelines.append(('ScaledLR', Pipeline([('Scaler', StandardScaler()),('LR', LinearRegression())])))\n",
    "pipelines.append(('ScaledLASSO', Pipeline([('Scaler', StandardScaler()),('LASSO', Lasso())])))\n",
    "pipelines.append(('ScaledEN', Pipeline([('Scaler', StandardScaler()),('EN', ElasticNet())])))\n",
    "pipelines.append(('ScaledKNN', Pipeline([('Scaler', StandardScaler()),('KNN', KNeighborsRegressor())])))\n",
    "pipelines.append(('ScaledCART', Pipeline([('Scaler', StandardScaler()),('CART', DecisionTreeRegressor())])))\n",
    "pipelines.append(('ScaledSVR', Pipeline([('Scaler', StandardScaler()),('SVR', SVR())])))\n",
    "results = []\n",
    "names = []\n",
    "for name, model in pipelines:\n",
    "    kfold = KFold(n_splits=num_folds, random_state=seed)\n",
    "    cv_results = cross_val_score(model, X_train, Y_train, cv=kfold, scoring=rmsle_scorer)\n",
    "    results.append(cv_results)\n",
    "    names.append(name)\n",
    "    msg = \"%s: %f (%f)\" % (name, cv_results.mean(), cv_results.std())\n",
    "    print(msg)"
   ]
  },
  {
   "cell_type": "code",
   "execution_count": 8,
   "metadata": {
    "collapsed": false
   },
   "outputs": [
    {
     "name": "stdout",
     "output_type": "stream",
     "text": [
      "ScaledLR: -0.268945 (0.017580)\n",
      "ScaledLASSO: -0.356256 (0.019768)\n",
      "ScaledEN: -0.356256 (0.019768)\n",
      "ScaledKNN: -0.224350 (0.013779)\n",
      "ScaledCART: -0.151433 (0.009275)\n",
      "ScaledSVR: -0.264631 (0.018741)\n"
     ]
    }
   ],
   "source": [
    "# Standardize the dataset/MinMaxScaler\n",
    "pipelinesM = []\n",
    "pipelinesM.append(('ScaledLR', Pipeline([('Scaler', MinMaxScaler()),('LR', LinearRegression())])))\n",
    "pipelinesM.append(('ScaledLASSO', Pipeline([('Scaler', MinMaxScaler()),('LASSO', Lasso())])))\n",
    "pipelinesM.append(('ScaledEN', Pipeline([('Scaler', MinMaxScaler()),('EN', ElasticNet())])))\n",
    "pipelinesM.append(('ScaledKNN', Pipeline([('Scaler', MinMaxScaler()),('KNN', KNeighborsRegressor())])))\n",
    "pipelinesM.append(('ScaledCART', Pipeline([('Scaler', MinMaxScaler()),('CART', DecisionTreeRegressor())])))\n",
    "pipelinesM.append(('ScaledSVR', Pipeline([('Scaler', MinMaxScaler()),('SVR', SVR())])))\n",
    "resultsM = []\n",
    "namesM = []\n",
    "for name, model in pipelinesM:\n",
    "    kfold = KFold(n_splits=num_folds, random_state=seed)\n",
    "    cv_results = cross_val_score(model, X_train, Y_train, cv=kfold, scoring=rmsle_scorer)\n",
    "    resultsM.append(cv_results)\n",
    "    namesM.append(name)\n",
    "    msg = \"%s: %f (%f)\" % (name, cv_results.mean(), cv_results.std())\n",
    "    print(msg)"
   ]
  },
  {
   "cell_type": "code",
   "execution_count": 9,
   "metadata": {
    "collapsed": false
   },
   "outputs": [
    {
     "data": {
      "image/png": "[encoded data removed]",
      "text/plain": [
       "<matplotlib.figure.Figure at 0xaa20668>"
      ]
     },
     "metadata": {},
     "output_type": "display_data"
    }
   ],
   "source": [
    "# Compare Algorithms\n",
    "fig = pyplot.figure()\n",
    "fig.suptitle('Scaled Algorithm Comparison')\n",
    "ax = fig.add_subplot(111)\n",
    "pyplot.boxplot(results)\n",
    "ax.set_xticklabels(names)\n",
    "pyplot.show()"
   ]
  },
  {
   "cell_type": "code",
   "execution_count": 10,
   "metadata": {
    "collapsed": false
   },
   "outputs": [
    {
     "data": {
      "image/png": "[encoded data removed]",
      "text/plain": [
       "<matplotlib.figure.Figure at 0x70ee9e8>"
      ]
     },
     "metadata": {},
     "output_type": "display_data"
    }
   ],
   "source": [
    "# Compare Algorithms\n",
    "fig = pyplot.figure()\n",
    "fig.suptitle('ScaledMinMax Algorithm Comparison')\n",
    "ax = fig.add_subplot(111)\n",
    "pyplot.boxplot(resultsM)\n",
    "ax.set_xticklabels(namesM)\n",
    "pyplot.show()"
   ]
  },
  {
   "cell_type": "code",
   "execution_count": 11,
   "metadata": {
    "collapsed": false
   },
   "outputs": [
    {
     "name": "stdout",
     "output_type": "stream",
     "text": [
      "ScaledAB: -0.170170 (0.010538)\n",
      "ScaledGBM: -0.125823 (0.010177)\n",
      "ScaledRF: -0.118294 (0.007368)\n",
      "ScaledET: -0.119599 (0.011145)\n"
     ]
    }
   ],
   "source": [
    "# ensembles/Standard\n",
    "ensembles = []\n",
    "ensembles.append(('ScaledAB', Pipeline([('Scaler', StandardScaler()),('AB', AdaBoostRegressor(random_state=seed))])))\n",
    "ensembles.append(('ScaledGBM', Pipeline([('Scaler', StandardScaler()),('GBM', GradientBoostingRegressor(random_state=seed))])))\n",
    "ensembles.append(('ScaledRF', Pipeline([('Scaler', StandardScaler()),('RF', RandomForestRegressor(random_state=seed))])))\n",
    "ensembles.append(('ScaledET', Pipeline([('Scaler', StandardScaler()),('ET', ExtraTreesRegressor(random_state=seed))])))\n",
    "results_ens = []\n",
    "names_ens = []\n",
    "for name, model in ensembles:\n",
    "    kfold = KFold(n_splits=num_folds, random_state=seed)\n",
    "    cv_results = cross_val_score(model, X_train, Y_train, cv=kfold, scoring=rmsle_scorer)\n",
    "    results_ens.append(cv_results)\n",
    "    names_ens.append(name)\n",
    "    msg = \"%s: %f (%f)\" % (name, cv_results.mean(), cv_results.std())\n",
    "    print(msg)"
   ]
  },
  {
   "cell_type": "code",
   "execution_count": 12,
   "metadata": {
    "collapsed": false
   },
   "outputs": [
    {
     "name": "stdout",
     "output_type": "stream",
     "text": [
      "ScaledAB: -0.170170 (0.010538)\n",
      "ScaledGBM: -0.125823 (0.010177)\n",
      "ScaledRF: -0.118294 (0.007368)\n",
      "ScaledET: -0.119599 (0.011145)\n"
     ]
    }
   ],
   "source": [
    "# ensembles/MinMax\n",
    "ensemblesM = []\n",
    "ensemblesM.append(('ScaledAB', Pipeline([('Scaler', MinMaxScaler()),('AB', AdaBoostRegressor(random_state=seed))])))\n",
    "ensemblesM.append(('ScaledGBM', Pipeline([('Scaler', MinMaxScaler()),('GBM', GradientBoostingRegressor(random_state=seed))])))\n",
    "ensemblesM.append(('ScaledRF', Pipeline([('Scaler', MinMaxScaler()),('RF', RandomForestRegressor(random_state=seed))])))\n",
    "ensemblesM.append(('ScaledET', Pipeline([('Scaler', MinMaxScaler()),('ET', ExtraTreesRegressor(random_state=seed))])))\n",
    "results_ensM = []\n",
    "names_ensM = []\n",
    "for name, model in ensembles:\n",
    "    kfold = KFold(n_splits=num_folds, random_state=seed)\n",
    "    cv_results = cross_val_score(model, X_train, Y_train, cv=kfold, scoring=rmsle_scorer)\n",
    "    results_ensM.append(cv_results)\n",
    "    names_ensM.append(name)\n",
    "    msg = \"%s: %f (%f)\" % (name, cv_results.mean(), cv_results.std())\n",
    "    print(msg)"
   ]
  },
  {
   "cell_type": "code",
   "execution_count": 15,
   "metadata": {
    "collapsed": false
   },
   "outputs": [
    {
     "name": "stdout",
     "output_type": "stream",
     "text": [
      "0.337386558628\n"
     ]
    }
   ],
   "source": [
    "ensembles[2][1].fit(X_train,Y_train)\n",
    "preds = ensembles[2][1].predict(X_validation)\n",
    "print rmsle(np.exp(Y_validation), np.exp(preds))"
   ]
  },
  {
   "cell_type": "code",
   "execution_count": 16,
   "metadata": {
    "collapsed": false
   },
   "outputs": [
    {
     "name": "stdout",
     "output_type": "stream",
     "text": [
      "Best: -0.112830 using {'max_features': 0.80000000000000004, 'n_estimators': 500}\n",
      "-0.140486 (0.013480) with: {'max_features': 0.29999999999999999, 'n_estimators': 500}\n",
      "-0.128279 (0.012411) with: {'max_features': 0.40000000000000002, 'n_estimators': 500}\n",
      "-0.117461 (0.010356) with: {'max_features': 0.5, 'n_estimators': 500}\n",
      "-0.114935 (0.009628) with: {'max_features': 0.59999999999999998, 'n_estimators': 500}\n",
      "-0.113620 (0.009076) with: {'max_features': 0.69999999999999996, 'n_estimators': 500}\n",
      "-0.112830 (0.008950) with: {'max_features': 0.80000000000000004, 'n_estimators': 500}\n"
     ]
    }
   ],
   "source": [
    "# Tune scaled RF\n",
    "scaler = StandardScaler().fit(X_train)\n",
    "rescaledX = scaler.transform(X_train)\n",
    "param_grid = dict(n_estimators=np.array([500]),max_features = np.array([0.3,0.4,0.5,0.6,0.7,0.8]))\n",
    "model = RandomForestRegressor(random_state=seed)\n",
    "kfold = KFold(n_splits=num_folds, random_state=seed)\n",
    "grid = GridSearchCV(estimator=model, param_grid=param_grid, scoring=rmsle_scorer, cv=kfold)\n",
    "grid_result = grid.fit(rescaledX, Y_train)\n",
    "\n",
    "print(\"Best: %f using %s\" % (grid_result.best_score_, grid_result.best_params_))\n",
    "means = grid_result.cv_results_['mean_test_score']\n",
    "stds = grid_result.cv_results_['std_test_score']\n",
    "params = grid_result.cv_results_['params']\n",
    "for mean, stdev, param in zip(means, stds, params):\n",
    "    print(\"%f (%f) with: %r\" % (mean, stdev, param))"
   ]
  },
  {
   "cell_type": "code",
   "execution_count": 17,
   "metadata": {
    "collapsed": false
   },
   "outputs": [
    {
     "name": "stdout",
     "output_type": "stream",
     "text": [
      "Best: -0.112941 using {'max_features': 0.80000000000000004, 'n_estimators': 1000}\n",
      "-0.117174 (0.010197) with: {'max_features': 0.5, 'n_estimators': 1000}\n",
      "-0.114734 (0.009546) with: {'max_features': 0.65000000000000002, 'n_estimators': 1000}\n",
      "-0.112941 (0.008981) with: {'max_features': 0.80000000000000004, 'n_estimators': 1000}\n"
     ]
    }
   ],
   "source": [
    "# Tune scaled RF\n",
    "scaler = StandardScaler().fit(X_train)\n",
    "rescaledX = scaler.transform(X_train)\n",
    "param_grid = dict(n_estimators=np.array([1000]),max_features = np.array([0.5,0.65,0.8]))\n",
    "model = RandomForestRegressor(random_state=seed)\n",
    "kfold = KFold(n_splits=num_folds, random_state=seed)\n",
    "grid = GridSearchCV(estimator=model, param_grid=param_grid, scoring=rmsle_scorer, cv=kfold)\n",
    "grid_result = grid.fit(rescaledX, Y_train)\n",
    "\n",
    "print(\"Best: %f using %s\" % (grid_result.best_score_, grid_result.best_params_))\n",
    "means = grid_result.cv_results_['mean_test_score']\n",
    "stds = grid_result.cv_results_['std_test_score']\n",
    "params = grid_result.cv_results_['params']\n",
    "for mean, stdev, param in zip(means, stds, params):\n",
    "    print(\"%f (%f) with: %r\" % (mean, stdev, param))"
   ]
  },
  {
   "cell_type": "code",
   "execution_count": 18,
   "metadata": {
    "collapsed": false
   },
   "outputs": [
    {
     "name": "stdout",
     "output_type": "stream",
     "text": [
      "Best: -0.112900 using {'max_features': 0.80000000000000004, 'n_estimators': 2000, 'max_depth': 50}\n",
      "-0.113142 (0.009021) with: {'max_features': 0.80000000000000004, 'n_estimators': 1000, 'max_depth': 20}\n",
      "-0.113030 (0.008957) with: {'max_features': 0.80000000000000004, 'n_estimators': 2000, 'max_depth': 20}\n",
      "-0.112941 (0.008981) with: {'max_features': 0.80000000000000004, 'n_estimators': 1000, 'max_depth': 50}\n",
      "-0.112900 (0.008968) with: {'max_features': 0.80000000000000004, 'n_estimators': 2000, 'max_depth': 50}\n",
      "-0.112941 (0.008981) with: {'max_features': 0.80000000000000004, 'n_estimators': 1000, 'max_depth': 100}\n",
      "-0.112900 (0.008968) with: {'max_features': 0.80000000000000004, 'n_estimators': 2000, 'max_depth': 100}\n"
     ]
    }
   ],
   "source": [
    "# Tune scaled RF\n",
    "scaler = StandardScaler().fit(X_train)\n",
    "rescaledX = scaler.transform(X_train)\n",
    "param_grid = dict(n_estimators=np.array([1000, 2000]), max_depth = np.array([20,50,100]), max_features = np.array([0.8]))\n",
    "model = RandomForestRegressor(random_state=seed)\n",
    "kfold = KFold(n_splits=num_folds, random_state=seed)\n",
    "grid = GridSearchCV(estimator=model, param_grid=param_grid, scoring=rmsle_scorer, cv=kfold)\n",
    "grid_result = grid.fit(rescaledX, Y_train)\n",
    "\n",
    "print(\"Best: %f using %s\" % (grid_result.best_score_, grid_result.best_params_))\n",
    "means = grid_result.cv_results_['mean_test_score']\n",
    "stds = grid_result.cv_results_['std_test_score']\n",
    "params = grid_result.cv_results_['params']\n",
    "for mean, stdev, param in zip(means, stds, params):\n",
    "    print(\"%f (%f) with: %r\" % (mean, stdev, param))"
   ]
  },
  {
   "cell_type": "code",
   "execution_count": 19,
   "metadata": {
    "collapsed": false
   },
   "outputs": [
    {
     "name": "stdout",
     "output_type": "stream",
     "text": [
      "0.311348806385\n"
     ]
    }
   ],
   "source": [
    "scaler = StandardScaler().fit(X_train)\n",
    "rescaledX = scaler.transform(X_train)\n",
    "model = RandomForestRegressor(random_state=seed, n_estimators = 2000, max_depth = 50, max_features=0.8)\n",
    "model.fit(rescaledX,Y_train)\n",
    "rescaledValidationX = scaler.transform(X_validation)\n",
    "preds = model.predict(rescaledValidationX)\n",
    "\n",
    "print rmsle(np.exp(Y_validation), np.exp(preds))"
   ]
  },
  {
   "cell_type": "code",
   "execution_count": 20,
   "metadata": {
    "collapsed": false
   },
   "outputs": [
    {
     "name": "stdout",
     "output_type": "stream",
     "text": [
      "Best: -0.109410 using {'max_features': 0.59999999999999998, 'n_estimators': 500}\n",
      "-0.116914 (0.006679) with: {'max_features': 0.29999999999999999, 'n_estimators': 500}\n",
      "-0.112845 (0.008878) with: {'max_features': 0.40000000000000002, 'n_estimators': 500}\n",
      "-0.111343 (0.007354) with: {'max_features': 0.5, 'n_estimators': 500}\n",
      "-0.109410 (0.007435) with: {'max_features': 0.59999999999999998, 'n_estimators': 500}\n",
      "-0.111937 (0.007006) with: {'max_features': 0.69999999999999996, 'n_estimators': 500}\n",
      "-0.110765 (0.008118) with: {'max_features': 0.80000000000000004, 'n_estimators': 500}\n"
     ]
    }
   ],
   "source": [
    "# Tune scaled GB\n",
    "scaler = StandardScaler().fit(X_train)\n",
    "rescaledX = scaler.transform(X_train)\n",
    "param_grid = dict(n_estimators = np.array([500]), max_features = np.array([0.3,0.4,0.5,0.6,0.7,0.8]))\n",
    "model = GradientBoostingRegressor(random_state=seed)\n",
    "kfold = KFold(n_splits=num_folds, random_state=seed)\n",
    "grid = GridSearchCV(estimator=model, param_grid=param_grid, scoring=rmsle_scorer, cv=kfold)\n",
    "grid_result = grid.fit(rescaledX, Y_train)\n",
    "\n",
    "print(\"Best: %f using %s\" % (grid_result.best_score_, grid_result.best_params_))\n",
    "means = grid_result.cv_results_['mean_test_score']\n",
    "stds = grid_result.cv_results_['std_test_score']\n",
    "params = grid_result.cv_results_['params']\n",
    "for mean, stdev, param in zip(means, stds, params):\n",
    "    print(\"%f (%f) with: %r\" % (mean, stdev, param))"
   ]
  },
  {
   "cell_type": "code",
   "execution_count": 21,
   "metadata": {
    "collapsed": false
   },
   "outputs": [
    {
     "name": "stdout",
     "output_type": "stream",
     "text": [
      "Best: -0.111021 using {'max_features': 0.59999999999999998, 'n_estimators': 2000, 'learning_rate': 0.14999999999999999}\n",
      "-0.112419 (0.009646) with: {'max_features': 0.59999999999999998, 'n_estimators': 2000, 'learning_rate': 0.10000000000000001}\n",
      "-0.111021 (0.008331) with: {'max_features': 0.59999999999999998, 'n_estimators': 2000, 'learning_rate': 0.14999999999999999}\n",
      "-0.112298 (0.008861) with: {'max_features': 0.59999999999999998, 'n_estimators': 2000, 'learning_rate': 0.20000000000000001}\n"
     ]
    },
    {
     "name": "stderr",
     "output_type": "stream",
     "text": [
      "C:\\Anaconda2\\lib\\site-packages\\ipykernel\\__main__.py:9: RuntimeWarning: invalid value encountered in log\n"
     ]
    }
   ],
   "source": [
    "# Tune scaled GB\n",
    "scaler = StandardScaler().fit(X_train)\n",
    "rescaledX = scaler.transform(X_train)\n",
    "param_grid = dict(learning_rate=np.array([0.1, 0.15,0.2]), n_estimators = np.array([2000]), max_features = np.array([0.6]))\n",
    "model = GradientBoostingRegressor(random_state=seed)\n",
    "kfold = KFold(n_splits=num_folds, random_state=seed)\n",
    "grid = GridSearchCV(estimator=model, param_grid=param_grid, scoring=rmsle_scorer, cv=kfold)\n",
    "grid_result = grid.fit(rescaledX, Y_train)\n",
    "\n",
    "print(\"Best: %f using %s\" % (grid_result.best_score_, grid_result.best_params_))\n",
    "means = grid_result.cv_results_['mean_test_score']\n",
    "stds = grid_result.cv_results_['std_test_score']\n",
    "params = grid_result.cv_results_['params']\n",
    "for mean, stdev, param in zip(means, stds, params):\n",
    "    print(\"%f (%f) with: %r\" % (mean, stdev, param))"
   ]
  },
  {
   "cell_type": "code",
   "execution_count": null,
   "metadata": {
    "collapsed": false
   },
   "outputs": [],
   "source": []
  },
  {
   "cell_type": "code",
   "execution_count": 33,
   "metadata": {
    "collapsed": false
   },
   "outputs": [
    {
     "name": "stdout",
     "output_type": "stream",
     "text": [
      "0.285803478662\n"
     ]
    }
   ],
   "source": [
    "scaler = StandardScaler().fit(X_train)\n",
    "rescaledX = scaler.transform(X_train)\n",
    "model = GradientBoostingRegressor(random_state=seed, n_estimators = 2500, learning_rate = 0.08,  max_features=0.5)\n",
    "model.fit(rescaledX,Y_train)\n",
    "rescaledValidationX = scaler.transform(X_validation)\n",
    "preds = model.predict(rescaledValidationX)\n",
    "\n",
    "print rmsle(np.exp(Y_validation), np.exp(preds))"
   ]
  },
  {
   "cell_type": "code",
   "execution_count": 25,
   "metadata": {
    "collapsed": false
   },
   "outputs": [
    {
     "name": "stdout",
     "output_type": "stream",
     "text": [
      "Best: -0.111439 using {'n_estimators': 700}\n",
      "-0.112350 (0.009652) with: {'n_estimators': 100}\n",
      "-0.111628 (0.010042) with: {'n_estimators': 250}\n",
      "-0.111461 (0.010045) with: {'n_estimators': 400}\n",
      "-0.111439 (0.010141) with: {'n_estimators': 700}\n",
      "-0.111455 (0.010138) with: {'n_estimators': 1000}\n"
     ]
    }
   ],
   "source": [
    "# Tune scaled ET\n",
    "scaler = StandardScaler().fit(X_train)\n",
    "rescaledX = scaler.transform(X_train)\n",
    "param_grid = dict(n_estimators=np.array([100, 250, 400, 700, 1000]))\n",
    "model = ExtraTreesRegressor(random_state=seed, oob_score=True, bootstrap=True)\n",
    "kfold = KFold(n_splits=num_folds, random_state=seed)\n",
    "grid = GridSearchCV(estimator=model, param_grid=param_grid, scoring=rmsle_scorer, cv=kfold)\n",
    "grid_result = grid.fit(rescaledX, Y_train)\n",
    "\n",
    "print(\"Best: %f using %s\" % (grid_result.best_score_, grid_result.best_params_))\n",
    "means = grid_result.cv_results_['mean_test_score']\n",
    "stds = grid_result.cv_results_['std_test_score']\n",
    "params = grid_result.cv_results_['params']\n",
    "for mean, stdev, param in zip(means, stds, params):\n",
    "    print(\"%f (%f) with: %r\" % (mean, stdev, param))"
   ]
  },
  {
   "cell_type": "code",
   "execution_count": 27,
   "metadata": {
    "collapsed": false
   },
   "outputs": [
    {
     "name": "stdout",
     "output_type": "stream",
     "text": [
      "0.296937244423\n"
     ]
    }
   ],
   "source": [
    "scaler = StandardScaler().fit(X_train)\n",
    "rescaledX = scaler.transform(X_train)\n",
    "model = ExtraTreesRegressor(random_state=seed, n_estimators = 700, oob_score=True, bootstrap=True)\n",
    "model.fit(rescaledX,Y_train)\n",
    "rescaledValidationX = scaler.transform(X_validation)\n",
    "preds = model.predict(rescaledValidationX)\n",
    "\n",
    "print rmsle(np.exp(Y_validation), np.exp(preds))"
   ]
  },
  {
   "cell_type": "code",
   "execution_count": 61,
   "metadata": {
    "collapsed": false
   },
   "outputs": [
    {
     "name": "stdout",
     "output_type": "stream",
     "text": [
      "0.319779537097\n"
     ]
    }
   ],
   "source": [
    "#just a try ( ;-)\n",
    "scaler = StandardScaler().fit(X_train)\n",
    "rescaledX = scaler.transform(X_train)\n",
    "model = AdaBoostRegressor(random_state=seed,base_estimator = RandomForestRegressor(random_state=seed, n_estimators = 100, \n",
    "                         max_features=0.5), n_estimators = 50, learning_rate = 0.9)\n",
    "model.fit(rescaledX,Y_train)\n",
    "rescaledValidationX = scaler.transform(X_validation)\n",
    "preds = model.predict(rescaledValidationX)\n",
    "\n",
    "print rmsle(np.exp(Y_validation), np.exp(preds))"
   ]
  },
  {
   "cell_type": "code",
   "execution_count": 34,
   "metadata": {
    "collapsed": true
   },
   "outputs": [],
   "source": [
    "test_dataset = read_csv('test_bikes.csv')\n",
    "test_dataset.datetime = test_dataset.datetime.apply(pd.to_datetime)\n",
    "test_dataset['year'] = test_dataset.datetime.apply(lambda x : x.year)\n",
    "test_dataset['month'] = test_dataset.datetime.apply(lambda x : x.month)\n",
    "test_dataset['hour'] = test_dataset.datetime.apply(lambda x : x.hour)\n",
    "test_dataset['dayofweek'] = test_dataset.datetime.apply(lambda x : x.dayofweek)\n",
    "X_test = test_dataset[test_dataset.columns[1:]].values\n",
    "scaler_test = StandardScaler().fit(X)\n",
    "rescaled_test = scaler_test.transform(X_test)"
   ]
  },
  {
   "cell_type": "code",
   "execution_count": 62,
   "metadata": {
    "collapsed": false
   },
   "outputs": [],
   "source": [
    "#this gave me the best result on leaderboard (0.39888)\n",
    "scaler = StandardScaler().fit(X)\n",
    "rescaledX = scaler.transform(X)\n",
    "model = GradientBoostingRegressor(random_state=seed, n_estimators = 2000, learning_rate = 0.09,  max_features=0.5)\n",
    "model.fit(rescaledX,Y)\n",
    "rescaledTestX = scaler.transform(X_test)\n",
    "preds = model.predict(rescaledTestX)\n",
    "preds = np.exp(preds)"
   ]
  },
  {
   "cell_type": "code",
   "execution_count": 48,
   "metadata": {
    "collapsed": true
   },
   "outputs": [],
   "source": [
    "scaler = StandardScaler().fit(X)\n",
    "rescaledX = scaler.transform(X)\n",
    "model = RandomForestRegressor(random_state=seed, n_estimators = 2000, max_depth = 50, max_features=0.8)\n",
    "model.fit(rescaledX,Y)\n",
    "rescaledTestX = scaler.transform(X_test)\n",
    "preds = model.predict(rescaledTestX)\n",
    "preds = np.exp(preds)"
   ]
  },
  {
   "cell_type": "code",
   "execution_count": 51,
   "metadata": {
    "collapsed": false
   },
   "outputs": [],
   "source": [
    "scaler = StandardScaler().fit(X)\n",
    "rescaledX = scaler.transform(X)\n",
    "model = ExtraTreesRegressor(random_state=seed,  n_estimators = 1500, oob_score=True, bootstrap=True)\n",
    "model.fit(rescaledX,Y)\n",
    "rescaledTestX = scaler.transform(X_test)\n",
    "preds = model.predict(rescaledTestX)\n",
    "preds = np.exp(preds)"
   ]
  },
  {
   "cell_type": "code",
   "execution_count": 58,
   "metadata": {
    "collapsed": false
   },
   "outputs": [],
   "source": [
    "scaler = StandardScaler().fit(X)\n",
    "rescaledX = scaler.transform(X)\n",
    "model = AdaBoostRegressor(random_state=seed,base_estimator = GradientBoostingRegressor(random_state=seed, n_estimators = 100, \n",
    "                         max_features=0.5), n_estimators = 50, learning_rate = 0.9)\n",
    "model.fit(rescaledX,Y)\n",
    "rescaledTestX = scaler.transform(X_test)\n",
    "preds = model.predict(rescaledTestX)\n",
    "preds = np.exp(preds)"
   ]
  },
  {
   "cell_type": "code",
   "execution_count": 65,
   "metadata": {
    "collapsed": false
   },
   "outputs": [
    {
     "name": "stdout",
     "output_type": "stream",
     "text": [
      "64.3972335106\n"
     ]
    },
    {
     "data": {
      "text/html": [
       "<div>\n",
       "<table border=\"1\" class=\"dataframe\">\n",
       "  <thead>\n",
       "    <tr style=\"text-align: right;\">\n",
       "      <th></th>\n",
       "      <th>count</th>\n",
       "      <th>datetime</th>\n",
       "    </tr>\n",
       "  </thead>\n",
       "  <tbody>\n",
       "    <tr>\n",
       "      <th>0</th>\n",
       "      <td>11.891941</td>\n",
       "      <td>2011-01-20 00:00:00</td>\n",
       "    </tr>\n",
       "    <tr>\n",
       "      <th>1</th>\n",
       "      <td>4.640564</td>\n",
       "      <td>2011-01-20 01:00:00</td>\n",
       "    </tr>\n",
       "    <tr>\n",
       "      <th>2</th>\n",
       "      <td>2.737563</td>\n",
       "      <td>2011-01-20 02:00:00</td>\n",
       "    </tr>\n",
       "    <tr>\n",
       "      <th>3</th>\n",
       "      <td>2.112728</td>\n",
       "      <td>2011-01-20 03:00:00</td>\n",
       "    </tr>\n",
       "    <tr>\n",
       "      <th>4</th>\n",
       "      <td>1.731296</td>\n",
       "      <td>2011-01-20 04:00:00</td>\n",
       "    </tr>\n",
       "    <tr>\n",
       "      <th>5</th>\n",
       "      <td>8.324127</td>\n",
       "      <td>2011-01-20 05:00:00</td>\n",
       "    </tr>\n",
       "    <tr>\n",
       "      <th>6</th>\n",
       "      <td>27.340020</td>\n",
       "      <td>2011-01-20 06:00:00</td>\n",
       "    </tr>\n",
       "    <tr>\n",
       "      <th>7</th>\n",
       "      <td>83.036308</td>\n",
       "      <td>2011-01-20 07:00:00</td>\n",
       "    </tr>\n",
       "    <tr>\n",
       "      <th>8</th>\n",
       "      <td>191.000000</td>\n",
       "      <td>2011-01-20 08:00:00</td>\n",
       "    </tr>\n",
       "    <tr>\n",
       "      <th>9</th>\n",
       "      <td>102.853476</td>\n",
       "      <td>2011-01-20 09:00:00</td>\n",
       "    </tr>\n",
       "    <tr>\n",
       "      <th>10</th>\n",
       "      <td>50.567875</td>\n",
       "      <td>2011-01-20 10:00:00</td>\n",
       "    </tr>\n",
       "    <tr>\n",
       "      <th>11</th>\n",
       "      <td>54.819693</td>\n",
       "      <td>2011-01-20 11:00:00</td>\n",
       "    </tr>\n",
       "    <tr>\n",
       "      <th>12</th>\n",
       "      <td>65.756865</td>\n",
       "      <td>2011-01-20 12:00:00</td>\n",
       "    </tr>\n",
       "    <tr>\n",
       "      <th>13</th>\n",
       "      <td>64.397234</td>\n",
       "      <td>2011-01-20 13:00:00</td>\n",
       "    </tr>\n",
       "    <tr>\n",
       "      <th>14</th>\n",
       "      <td>59.841647</td>\n",
       "      <td>2011-01-20 14:00:00</td>\n",
       "    </tr>\n",
       "  </tbody>\n",
       "</table>\n",
       "</div>"
      ],
      "text/plain": [
       "         count            datetime\n",
       "0    11.891941 2011-01-20 00:00:00\n",
       "1     4.640564 2011-01-20 01:00:00\n",
       "2     2.737563 2011-01-20 02:00:00\n",
       "3     2.112728 2011-01-20 03:00:00\n",
       "4     1.731296 2011-01-20 04:00:00\n",
       "5     8.324127 2011-01-20 05:00:00\n",
       "6    27.340020 2011-01-20 06:00:00\n",
       "7    83.036308 2011-01-20 07:00:00\n",
       "8   191.000000 2011-01-20 08:00:00\n",
       "9   102.853476 2011-01-20 09:00:00\n",
       "10   50.567875 2011-01-20 10:00:00\n",
       "11   54.819693 2011-01-20 11:00:00\n",
       "12   65.756865 2011-01-20 12:00:00\n",
       "13   64.397234 2011-01-20 13:00:00\n",
       "14   59.841647 2011-01-20 14:00:00"
      ]
     },
     "execution_count": 65,
     "metadata": {},
     "output_type": "execute_result"
    }
   ],
   "source": [
    "new_preds = preds\n",
    "print preds[13]\n",
    "for i in range(len(new_preds)):\n",
    "    if math.modf(max(0, new_preds[i]))[0]>0.9:\n",
    "        new_preds[i] = math.modf(max(0, new_preds[i]))[1]+1\n",
    "submission = pd.DataFrame({\n",
    "        \"datetime\": test_dataset[\"datetime\"],\n",
    "        \"count\": [x for x in new_preds]\n",
    "    })\n",
    "submission.head(15)"
   ]
  },
  {
   "cell_type": "code",
   "execution_count": 66,
   "metadata": {
    "collapsed": true
   },
   "outputs": [],
   "source": [
    "submission.to_csv('bike_predictions.csv', index=False)"
   ]
  },
  {
   "cell_type": "code",
   "execution_count": 56,
   "metadata": {
    "collapsed": false
   },
   "outputs": [],
   "source": [
    "AdaBoostRegressor?"
   ]
  },
  {
   "cell_type": "code",
   "execution_count": 67,
   "metadata": {
    "collapsed": true
   },
   "outputs": [],
   "source": [
    "ExtraTreesRegressor?"
   ]
  },
  {
   "cell_type": "code",
   "execution_count": 68,
   "metadata": {
    "collapsed": true
   },
   "outputs": [],
   "source": [
    "GradientBoostingRegressor?"
   ]
  },
  {
   "cell_type": "code",
   "execution_count": 69,
   "metadata": {
    "collapsed": true
   },
   "outputs": [],
   "source": [
    "RandomForestRegressor?"
   ]
  },
  {
   "cell_type": "code",
   "execution_count": null,
   "metadata": {
    "collapsed": true
   },
   "outputs": [],
   "source": []
  }
 ],
 "metadata": {
  "kernelspec": {
   "display_name": "Python 2",
   "language": "python",
   "name": "python2"
  },
  "language_info": {
   "codemirror_mode": {
    "name": "ipython",
    "version": 2
   },
   "file_extension": ".py",
   "mimetype": "text/x-python",
   "name": "python",
   "nbconvert_exporter": "python",
   "pygments_lexer": "ipython2",
   "version": "2.7.13"
  }
 },
 "nbformat": 4,
 "nbformat_minor": 0
}
